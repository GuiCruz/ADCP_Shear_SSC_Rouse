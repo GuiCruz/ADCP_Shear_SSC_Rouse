{
 "cells": [
  {
   "cell_type": "code",
   "execution_count": 1,
   "id": "7b257974",
   "metadata": {},
   "outputs": [],
   "source": [
    "import numpy as np\n",
    "import matplotlib.pyplot as plt\n",
    "import pickle\n",
    "import matplotlib.dates as mdates\n",
    "from matplotlib import animation, rc\n",
    "from IPython.display import HTML"
   ]
  },
  {
   "cell_type": "code",
   "execution_count": 2,
   "id": "10fd6b27",
   "metadata": {},
   "outputs": [],
   "source": [
    "file_names = ['U_fft.pkl', 'V_fft.pkl', 'U_raw.pkl', 'V_raw.pkl', 'Time_fft.pkl', \n",
    "              'Time_II_fft.pkl', 'REA.pkl', 'SSC_rea.pkl', 'depth.pkl', 'wave_T_fft.pkl',\n",
    "              'wave_H_fft.pkl','wave_dir_SC.pkl','wave_dt_stamp.pkl','wave_dt.pkl','C_R.pkl',\n",
    "              'C_eo.pkl','C_sed.pkl','C_con.pkl','ssc_rouse.pkl','t_m_fft.pkl','ucr_fft.pkl',\n",
    "              't_max_fft.pkl','Wind_U_spin.pkl','Wind_V_spin.pkl']\n",
    "\n",
    "# Dicionário para armazenar os dados já processados de velocidadee outros\n",
    "data = {}\n",
    "\n",
    "# Loop através dos nomes dos arquivos e carrega os dados usando pickle\n",
    "for file_name in file_names:\n",
    "    with open(file_name, 'rb') as file:\n",
    "        data[file_name.replace('.pkl', '')] = pickle.load(file)"
   ]
  },
  {
   "cell_type": "code",
   "execution_count": null,
   "id": "2df97e95",
   "metadata": {},
   "outputs": [],
   "source": [
    "mask_ssc = np.zeros(len(dt[12:1777]))\n",
    "for i in range(len(dt[12:1777])):\n",
    "    slope, intercept, r_value, p_value, std_err = stats.linregress(np.arange(0,27,1), ssc_intp[i,:27])\n",
    "    if slope > 0:\n",
    "        mask_ssc[i] = 1\n",
    "\n",
    "    elif slope < 0:\n",
    "        mask_ssc[i] = 0\n",
    "        \n",
    "C_R[mask_ssc == 1] = np.nan\n",
    "C_eo[mask_ssc == 1] = np.nan\n",
    "C_sed[mask_ssc == 1] = np.nan\n",
    "C_con[mask_ssc == 1] = np.nan\n",
    "C[mask_ssc == 1] = np.nan"
   ]
  },
  {
   "cell_type": "code",
   "execution_count": null,
   "id": "1d1332d1",
   "metadata": {},
   "outputs": [],
   "source": [
    "fig, ax = plt.subplots(2,1,figsize=(9,4), dpi = 500, constrained_layout=True)\n",
    "myFmt = mdates.DateFormatter('%m/%d - %H:%M')\n",
    "\n",
    "ax[0].set_title(\"Concentração Estimada por Rouse\", fontsize=9)\n",
    "ax[0].plot(dt[12:1777],niveis_intp[:], linewidth=0.2, color = 'k')\n",
    "q2 = ax[0].contourf(dt[12:1777],z[:],np.transpose(C[:,:]),cmap=plt.cm.YlOrRd)\n",
    "q2.set_clim(vmin = 0, vmax = 0.8)\n",
    "ax[0].set_ylabel('Profundidade (m)', fontsize = 8)\n",
    "\n",
    "colorbar = fig.colorbar(q2,fraction=0.04, pad=0.000002, ax = ax[0], aspect=5)\n",
    "colorbar.set_label('$Kg/m^3$', fontsize = 7)\n",
    "colorbar.ax.tick_params(labelsize=7)\n",
    "\n",
    "ax[1].set_title(\"Tensão de cisalhamento de fundo - Onda+Corrente e Onda\", fontsize = 9)\n",
    "ax[1].plot(dt[12:1777],t_m_array[:], linewidth=0.2, color = 'k')\n",
    "ax[1].plot(dt[12:1777],t_mw_array[:], linewidth=0.2, color = 'r')\n",
    "ax[1].legend(('$τ_{wc} $', '$τ_w$'))\n",
    "\n",
    "ax[1].set_ylabel('$\\mathrm{N} / m^2$', fontsize = 7)\n",
    "\n",
    "myFmt = mdates.DateFormatter('%d/%m')\n",
    "for i in range(2):\n",
    "    ax[i].xaxis.set_major_formatter(myFmt)\n",
    "    ax[i].axvline(x=dt[620], linewidth=1, color='g', linestyle='--')\n",
    "    ax[i].axvline(x=dt[700], linewidth=1, color='g', linestyle='--') \n",
    "    ax[i].axvline(x=dt[1506], linewidth=1, color='b', linestyle='--')\n",
    "    ax[i].axvline(x=dt[1551], linewidth=1, color='b', linestyle='--')\n",
    "\n",
    "    ax[i].set_xlim(dt[12],dt[1777])    \n",
    "    ax[i].set_xticklabels([], rotation = 45 ,fontsize = 8)\n",
    "    ax[i].xaxis.set_major_formatter(myFmt)\n",
    "    ax[i].set_xticks([dt[12],dt[300],dt[620],dt[700],\n",
    "                      dt[1100],dt[1506],dt[1551],dt[1777]])\n"
   ]
  }
 ],
 "metadata": {
  "kernelspec": {
   "display_name": "Python 3 (ipykernel)",
   "language": "python",
   "name": "python3"
  },
  "language_info": {
   "codemirror_mode": {
    "name": "ipython",
    "version": 3
   },
   "file_extension": ".py",
   "mimetype": "text/x-python",
   "name": "python",
   "nbconvert_exporter": "python",
   "pygments_lexer": "ipython3",
   "version": "3.9.12"
  }
 },
 "nbformat": 4,
 "nbformat_minor": 5
}
