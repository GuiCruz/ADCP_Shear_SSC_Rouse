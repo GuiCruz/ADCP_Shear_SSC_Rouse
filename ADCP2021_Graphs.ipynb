{
 "cells": [
  {
   "cell_type": "code",
   "execution_count": 1,
   "id": "7b257974",
   "metadata": {},
   "outputs": [],
   "source": [
    "import numpy as np\n",
    "import matplotlib.pyplot as plt\n",
    "import pickle\n",
    "import matplotlib.dates as mdates\n",
    "from matplotlib import animation, rc\n",
    "from IPython.display import HTML"
   ]
  },
  {
   "cell_type": "code",
   "execution_count": 2,
   "id": "10fd6b27",
   "metadata": {},
   "outputs": [],
   "source": [
    "file_names = ['U_fft.pkl', 'V_fft.pkl', 'U_raw.pkl', 'V_raw.pkl', 'Time_fft.pkl', \n",
    "              'Time_II_fft.pkl', 'REA.pkl', 'SSC_rea.pkl', 'depth.pkl', 'wave_T_fft.pkl',\n",
    "              'wave_H_fft.pkl','wave_dir_SC.pkl','wave_dt_stamp.pkl','wave_dt.pkl','C_R.pkl',\n",
    "              'C_eo.pkl','C_sed.pkl','C_con.pkl','ssc_rouse.pkl','t_m_fft.pkl','ucr_fft.pkl',\n",
    "              't_max_fft.pkl','Wind_U_spin.pkl','Wind_V_spin.pkl']\n",
    "\n",
    "# Dicionário para armazenar os dados já processados de velocidadee outros\n",
    "data = {}\n",
    "\n",
    "# Loop através dos nomes dos arquivos e carrega os dados usando pickle\n",
    "for file_name in file_names:\n",
    "    with open(file_name, 'rb') as file:\n",
    "        data[file_name.replace('.pkl', '')] = pickle.load(file)"
   ]
  },
  {
   "cell_type": "code",
   "execution_count": null,
   "id": "1d1332d1",
   "metadata": {},
   "outputs": [],
   "source": []
  }
 ],
 "metadata": {
  "kernelspec": {
   "display_name": "Python 3 (ipykernel)",
   "language": "python",
   "name": "python3"
  },
  "language_info": {
   "codemirror_mode": {
    "name": "ipython",
    "version": 3
   },
   "file_extension": ".py",
   "mimetype": "text/x-python",
   "name": "python",
   "nbconvert_exporter": "python",
   "pygments_lexer": "ipython3",
   "version": "3.9.12"
  }
 },
 "nbformat": 4,
 "nbformat_minor": 5
}
